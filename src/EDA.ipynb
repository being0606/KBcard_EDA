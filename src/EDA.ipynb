{
 "cells": [
  {
   "cell_type": "markdown",
   "metadata": {},
   "source": [
    "python verson : 3.10.11"
   ]
  },
  {
   "cell_type": "code",
   "execution_count": null,
   "metadata": {},
   "outputs": [],
   "source": [
    "import pandas as pd\n",
    "import numpy as np\n",
    "import matplotlib.pyplot as plt\n",
    "import seaborn as sns\n"
   ]
  },
  {
   "cell_type": "code",
   "execution_count": null,
   "metadata": {},
   "outputs": [],
   "source": [
    "plt.rcParams['font.family'] = 'AppleGothic'"
   ]
  },
  {
   "cell_type": "code",
   "execution_count": null,
   "metadata": {},
   "outputs": [],
   "source": [
    "# CSV 파일 경로\n",
    "csv_file_path = '../src/dataCard.csv'\n",
    "\n",
    "# CSV 파일을 DataFrame으로 읽어들이기\n",
    "df = pd.read_csv(csv_file_path)\n",
    "\n",
    "# DataFrame 출력\n",
    "df"
   ]
  },
  {
   "cell_type": "code",
   "execution_count": null,
   "metadata": {},
   "outputs": [],
   "source": [
    "df.Status.unique()"
   ]
  },
  {
   "cell_type": "code",
   "execution_count": null,
   "metadata": {},
   "outputs": [],
   "source": [
    "df_filtered = df[df['Status'] == '전표매입']\n",
    "df_filtered"
   ]
  },
  {
   "cell_type": "code",
   "execution_count": null,
   "metadata": {},
   "outputs": [],
   "source": [
    "# 1. 월별 전체 사용량 시각화 (추세선 포함)\n",
    "df['Date'] = pd.to_datetime(df['Date'])\n",
    "df['YearMonth'] = df['Date'].dt.to_period('M')\n",
    "monthly_total = df.groupby('YearMonth')['Domestic Amount (KRW)'].sum()\n",
    "monthly_total.index = monthly_total.index.astype(str)\n",
    "monthly_total = monthly_total.astype(int)\n",
    "\n",
    "sns.barplot(x=monthly_total.index, y=monthly_total)\n",
    "\n",
    "# Connect the values of the bars\n",
    "plt.plot(range(len(monthly_total)), monthly_total, marker='o', color='r')\n",
    "\n",
    "# Add value labels\n",
    "for i, value in enumerate(monthly_total):\n",
    "    plt.text(i, value, f'{value:,}', ha='center', va='bottom')\n",
    "\n",
    "plt.xlabel('Year-Month')\n",
    "plt.ylabel('Total Amount (KRW)')\n",
    "plt.title('Monthly Total Usage')\n",
    "plt.xticks(rotation=45)\n",
    "\n",
    "plt.savefig('../result_image/1.(상반기)월간카드사용량.jpeg', format='jpeg', dpi=300)\n",
    "plt.show()"
   ]
  },
  {
   "cell_type": "code",
   "execution_count": null,
   "metadata": {},
   "outputs": [],
   "source": [
    "# 2. 일별 사용량 추세선 시각화\n",
    "df['Date'] = pd.to_datetime(df['Date'])\n",
    "daily_total = df.groupby('Date')['Domestic Amount (KRW)'].sum()\n",
    "daily_mean = daily_total.mean()\n",
    "\n",
    "# 최소금액과 최대금액을 구합니다.\n",
    "daily_total_without_zero = daily_total[daily_total > 0]\n",
    "min_amount = daily_total_without_zero.min()\n",
    "max_amount = daily_total.max()\n",
    "\n",
    "sns.lineplot(x=daily_total.index, y=daily_total, label='Daily Usage')\n",
    "plt.axhline(daily_mean, color='orange', linestyle='--', label='Average Usage')\n",
    "plt.text(daily_total.index[-1], daily_mean, f'Average: {daily_mean:,.0f}', ha='right', va='center')\n",
    "\n",
    "# 최소금액과 최대금액을 표시합니다.\n",
    "plt.scatter(daily_total.idxmin(), min_amount, color='red', marker='o', label='Min Amount')\n",
    "plt.text(daily_total.idxmin(), min_amount, f'Min: {min_amount:,.0f}', ha='right', va='bottom')\n",
    "plt.scatter(daily_total.idxmax(), max_amount, color='red', marker='o', label='Max Amount')\n",
    "plt.text(daily_total.idxmax(), max_amount, f'Max: {max_amount:,.0f}', ha='right', va='top')\n",
    "\n",
    "plt.xlabel('Date')\n",
    "plt.ylabel('Total Amount (KRW)')\n",
    "plt.title('Daily Usage Trend')\n",
    "plt.xticks(rotation=45)\n",
    "plt.legend()\n",
    "plt.savefig('../result_image/2.(상반기)일별카드사용량.jpeg', format='jpeg', dpi=300)\n",
    "plt.show()\n"
   ]
  },
  {
   "cell_type": "code",
   "execution_count": null,
   "metadata": {},
   "outputs": [],
   "source": [
    "# 3. 빈도가 높은 사용처 순위 시각화\n",
    "top_locations = df['Location'].value_counts().nlargest(20)\n",
    "sns.barplot(x=top_locations.values, y=top_locations.index)\n",
    "\n",
    "for i, v in enumerate(top_locations.values):\n",
    "    plt.text(v + 4, i, str(v), ha='left', va='center')\n",
    "plt.xlabel('Frequency')\n",
    "plt.ylabel('Location')\n",
    "plt.title('Top 20 Most Frequent Locations')\n",
    "plt.savefig('../result_image/3.(상반기)빈도별카드사용량.jpeg', format='jpeg', dpi=300)\n",
    "plt.show()"
   ]
  },
  {
   "cell_type": "code",
   "execution_count": null,
   "metadata": {},
   "outputs": [],
   "source": [
    "# 4. 사용량이 많은 사용처 순위 시각화\n",
    "top_usage_locations = df.groupby('Location')['Domestic Amount (KRW)'].sum().nlargest(20)\n",
    "\n",
    "sns.barplot(x=top_usage_locations.values, y=top_usage_locations.index)\n",
    "\n",
    "for i, v in enumerate(top_usage_locations.values):\n",
    "    plt.text(v + 10000, i, '{:,}'.format(v), ha='left', va='center')\n",
    "\n",
    "plt.xlabel('Total Amount (KRW)')\n",
    "plt.ylabel('Location')\n",
    "plt.title('Top 20 Locations by Usage Amount')\n",
    "plt.savefig('../result_image/4.1.(상반기)사용처기준카드사용량.jpeg', format='jpeg', dpi=300)\n",
    "plt.show()"
   ]
  },
  {
   "cell_type": "code",
   "execution_count": null,
   "metadata": {},
   "outputs": [],
   "source": [
    "# 4-2. (6월)사용량기준 사용처 순위 시각화(6월)\n",
    "df['Date'] = pd.to_datetime(df['Date'])\n",
    "df['YearMonth'] = df['Date'].dt.to_period('M')\n",
    "\n",
    "# Filter data for June\n",
    "june_df = df[df['YearMonth'] == '2023-06']\n",
    "top_usage_locations = june_df.groupby('Location')['Domestic Amount (KRW)'].sum().nlargest(20)\n",
    "\n",
    "sns.barplot(x=top_usage_locations.values, y=top_usage_locations.index)\n",
    "\n",
    "for i, v in enumerate(top_usage_locations.values):\n",
    "    plt.text(v + 10000, i, '{:,}'.format(v), ha='left', va='center')\n",
    "\n",
    "plt.xlabel('Total Amount (KRW)')\n",
    "plt.ylabel('Location')\n",
    "plt.title('Top 20 Locations by Usage Amount (June)')\n",
    "plt.savefig('../result_image/4.2.(6월)사용량기준 사용처 순위 시각화.jpeg', format='jpeg', dpi=300)\n",
    "plt.show()"
   ]
  },
  {
   "cell_type": "code",
   "execution_count": null,
   "metadata": {},
   "outputs": [],
   "source": [
    "# 5. 시간대별 사용량 시각화 (한 시간 기준)\n",
    "df['Hour'] = pd.to_datetime(df['Time']).dt.hour\n",
    "hourly_usage = df.groupby('Hour')['Domestic Amount (KRW)'].sum()\n",
    "sns.barplot(x=hourly_usage.index, y=hourly_usage)\n",
    "\n",
    "for i, v in enumerate(hourly_usage.values):\n",
    "    plt.text(i, v + 10000, '{:,}'.format(v), ha='center', va='bottom')\n",
    "\n",
    "plt.xlabel('Hour')\n",
    "plt.ylabel('Total Amount (KRW)')\n",
    "plt.title('Hourly Usage')\n",
    "plt.savefig('../result_image/5.(상반기)시간대별 사용량.jpeg', format='jpeg', dpi=300)\n",
    "plt.show()"
   ]
  },
  {
   "cell_type": "code",
   "execution_count": null,
   "metadata": {},
   "outputs": [],
   "source": [
    "# 6. 요일별 사용량 시각화\n",
    "df['Weekday'] = df['Date'].dt.weekday\n",
    "weekday_usage = df.groupby('Weekday')['Domestic Amount (KRW)'].sum()\n",
    "weekday_labels = ['Monday', 'Tuesday', 'Wednesday', 'Thursday', 'Friday', 'Saturday', 'Sunday']\n",
    "sns.barplot(x=weekday_labels, y=weekday_usage)\n",
    "\n",
    "for i, v in enumerate(weekday_usage.values):\n",
    "    plt.text(i, v + 10000, '{:,}'.format(v), ha='center', va='bottom')\n",
    "\n",
    "plt.xlabel('Weekday')\n",
    "plt.ylabel('Total Amount (KRW)')\n",
    "plt.title('Usage by Weekday')\n",
    "plt.savefig('../result_image/6.(상반기)요일별 사용량 시각화.jpeg', format='jpeg', dpi=300)\n",
    "plt.show()"
   ]
  }
 ],
 "metadata": {
  "kernelspec": {
   "display_name": "Python 3",
   "language": "python",
   "name": "python3"
  },
  "language_info": {
   "codemirror_mode": {
    "name": "ipython",
    "version": 3
   },
   "file_extension": ".py",
   "mimetype": "text/x-python",
   "name": "python",
   "nbconvert_exporter": "python",
   "pygments_lexer": "ipython3",
   "version": "3.10.13"
  },
  "orig_nbformat": 4
 },
 "nbformat": 4,
 "nbformat_minor": 2
}
